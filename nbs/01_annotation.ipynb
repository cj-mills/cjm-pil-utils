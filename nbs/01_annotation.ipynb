{
 "cells": [
  {
   "cell_type": "markdown",
   "metadata": {},
   "source": [
    "# annotation\n",
    "\n",
    "> Some utility functions for annotating PIL Images"
   ]
  },
  {
   "cell_type": "code",
   "execution_count": null,
   "metadata": {},
   "outputs": [],
   "source": [
    "#| default_exp annotation"
   ]
  },
  {
   "cell_type": "code",
   "execution_count": null,
   "metadata": {},
   "outputs": [],
   "source": [
    "#| hide\n",
    "from nbdev.showdoc import *"
   ]
  },
  {
   "cell_type": "code",
   "execution_count": null,
   "metadata": {},
   "outputs": [],
   "source": [
    "#| export\n",
    "# Import necessary modules from the standard library\n",
    "from pathlib import Path  # For working with file paths\n",
    "import hashlib\n",
    "from glob import glob\n",
    "import numpy as np  # For working with arrays\n",
    "from PIL import Image, ImageDraw, ImageFont  # For working with images"
   ]
  },
  {
   "cell_type": "code",
   "execution_count": null,
   "metadata": {},
   "outputs": [],
   "source": []
  },
  {
   "cell_type": "code",
   "execution_count": null,
   "metadata": {},
   "outputs": [],
   "source": [
    "#| export\n",
    "def draw_masks(image:Image, # The input image on which annotations will be drawn.\n",
    "               masks:np.ndarray, # A 3D numpy array of shape (n_masks, height, width) representing segmentation masks.\n",
    "               labels:list, # A list of labels corresponding to each segmentation mask.\n",
    "               colors:list, # A list of RGB tuples for each segmentation mask and its corresponding label.\n",
    "               conf_threshold:float, # The threshold value to convert mask to binary.\n",
    "               alpha:float=0.3 # The alpha value for mask transparency.\n",
    "              ) -> Image:  # The image annotated with segmentation masks and labels.\n",
    "    \"\"\"\n",
    "    Annotates an image with segmentation masks, labels, and optional alpha blending.\n",
    "\n",
    "    This function draws segmentation masks on the provided image using the given mask arrays, \n",
    "    colors, labels, and alpha values for transparency.\n",
    "    \"\"\"\n",
    "    \n",
    "    # Create a copy of the image\n",
    "    annotated_image = image.copy()\n",
    "    annotated_image.convert('RGBA')\n",
    "\n",
    "    # Create an ImageDraw object for drawing on the image\n",
    "    draw = ImageDraw.Draw(annotated_image)\n",
    "\n",
    "    # Loop through the bounding boxes and labels in the 'annotation' DataFrame\n",
    "    for i in range(len(labels)):\n",
    "        \n",
    "        # Get the segmentation mask\n",
    "        mask = masks[i][0, :, :]\n",
    "        mask_color = [*colors[i], alpha*255]\n",
    "\n",
    "        # Create an empty 3D array with shape (height, width, 3)\n",
    "        rgb_mask = np.zeros((mask.shape[0], mask.shape[1], 4), dtype=np.uint8)\n",
    "        \n",
    "        # Use broadcasting to populate it with the mask color where the mask is 1\n",
    "        rgb_mask[mask > conf_threshold] = mask_color\n",
    "        \n",
    "        # Convert the numpy array to a PIL Image\n",
    "        mask_img = Image.fromarray(rgb_mask)\n",
    "        \n",
    "        # Draw segmentation mask on sample image\n",
    "        annotated_image.paste(mask_img, (0,0), mask=mask_img)\n",
    "        \n",
    "    return annotated_image"
   ]
  },
  {
   "cell_type": "code",
   "execution_count": null,
   "metadata": {},
   "outputs": [],
   "source": [
    "#| export\n",
    "def draw_bboxes(image:Image, # The input image on which annotations will be drawn.\n",
    "                boxes:list, # A list of bounding box coordinates where each tuple is (x, y, w, h).\n",
    "                labels:list, # A list of labels corresponding to each bounding box.\n",
    "                colors:list, # A list of colors for each bounding box and its corresponding label.\n",
    "                font:str, # Path to the font file to be used for displaying the labels.\n",
    "                width:int=2, # Width of the bounding box lines.\n",
    "                font_size:int=18, # Size of the font for the labels.\n",
    "                probs:list=None # A list of probability scores corresponding to each label.\n",
    "               ) -> Image: # The image annotated with bounding boxes, labels, and optional probability scores.\n",
    "    \"\"\"\n",
    "    Annotates an image with bounding boxes, labels, and optional probability scores.\n",
    "\n",
    "    This function draws bounding boxes on the provided image using the given box coordinates, \n",
    "    colors, and labels. If probabilities are provided, they will be added to the labels.\n",
    "    \"\"\"\n",
    "    \n",
    "    # Define a reference diagonal\n",
    "    REFERENCE_DIAGONAL = 1000\n",
    "    \n",
    "    # Scale the font size using the hypotenuse of the image\n",
    "    font_size = int(font_size * (np.hypot(*image.size) / REFERENCE_DIAGONAL))\n",
    "    \n",
    "    # Add probability scores to labels\n",
    "    if probs is not None:\n",
    "        labels = [f\"{label}: {prob*100:.2f}%\" for label, prob in zip(labels, probs)]\n",
    "    \n",
    "    # Create a copy of the image\n",
    "    annotated_image = image.copy()\n",
    "\n",
    "    # Create an ImageDraw object for drawing on the image\n",
    "    draw = ImageDraw.Draw(annotated_image)\n",
    "\n",
    "    # Loop through the bounding boxes and labels in the 'annotation' DataFrame\n",
    "    for i in range(len(labels)):\n",
    "        # Get the bounding box coordinates\n",
    "        x, y, x2, y2 = boxes[i]\n",
    "\n",
    "        # Create a tuple of coordinates for the bounding box\n",
    "        shape = (x, y, x2, y2)\n",
    "\n",
    "        # Draw the bounding box on the image\n",
    "        draw.rectangle(shape, outline=colors[i], width=width)\n",
    "        \n",
    "        # Load the font file\n",
    "        fnt = ImageFont.truetype(font, font_size)\n",
    "        \n",
    "        # Draw the label box on the image\n",
    "        label_w, label_h = draw.textbbox(xy=(0,0), text=labels[i], font=fnt)[2:]\n",
    "        draw.rectangle((x, y-label_h, x+label_w, y), outline=colors[i], fill=colors[i], width=width)\n",
    "\n",
    "        # Draw the label on the image\n",
    "        draw.multiline_text((x, y-label_h), labels[i], font=fnt, fill='black' if np.mean(colors[i]) > 127.5 else 'white')\n",
    "        \n",
    "    return annotated_image"
   ]
  },
  {
   "cell_type": "code",
   "execution_count": null,
   "metadata": {},
   "outputs": [],
   "source": []
  },
  {
   "cell_type": "code",
   "execution_count": null,
   "metadata": {},
   "outputs": [],
   "source": []
  },
  {
   "cell_type": "code",
   "execution_count": null,
   "metadata": {},
   "outputs": [],
   "source": []
  },
  {
   "cell_type": "code",
   "execution_count": null,
   "metadata": {},
   "outputs": [],
   "source": []
  },
  {
   "cell_type": "code",
   "execution_count": null,
   "metadata": {},
   "outputs": [],
   "source": [
    "#| hide\n",
    "import nbdev; nbdev.nbdev_export()"
   ]
  }
 ],
 "metadata": {
  "kernelspec": {
   "display_name": "python3",
   "language": "python",
   "name": "python3"
  }
 },
 "nbformat": 4,
 "nbformat_minor": 4
}
